{
 "cells": [
  {
   "cell_type": "markdown",
   "metadata": {},
   "source": [
    "# Investigate the Data\n",
    "\n",
    "Welcome to the cumulative project on clustering algorithms! In this project, we will be investigating the way people think about masculinity by applying the KMeans algorithm to data from  <a href=\"https://fivethirtyeight.com/\" target = \"_blank\">FiveThirtyEight</a>. FiveThirtyEight is a popular website known for their use of statistical analysis in many of their stories.\n",
    "\n",
    "To begin, take a look at `masculinity-survey.pdf`. FiveThirtyEight and WNYC studios used this survey to get their male readers' thoughts on masculinity. After looking through some of the questions asked, take a look at FiveThirtyEight's article <a href=\"https://fivethirtyeight.com/features/what-do-men-think-it-means-to-be-a-man/\" target = \"_blank\">What Do Men Think It Means To Be A Man?</a> to see their major takeaways. We're going to try to find more insights using machine learning.\n",
    "\n",
    "In the code block below, we've loaded `masculinity.csv` into a DataFrame named `survey`. This file contains the raw responses to the masculinity survey. Let's start getting a sense of how this data is structured. Try to answer these questions using your Pandas knowledge:\n",
    "* What are the names of the columns? How do those columns relate to the questions in the PDF?\n",
    "* How many rows are there?\n",
    "* How is a question with multiple parts, like question 7, represented in the DataFrame?\n",
    "* How many people said they often ask a friend for professional advice? This is the first sub-question in question 7.\n",
    "\n",
    "To answer that last question, use the `value_counts()` function. For example, `df[\"col_a\"].value_counts()` gives you a nice summary of the values found in `\"col_a\"` of the DataFrame `df`.\n",
    "\n",
    "You may also want to print `survey.head()` to get a sense of all of the columns.\n"
   ]
  },
  {
   "cell_type": "code",
   "execution_count": 1,
   "metadata": {},
   "outputs": [
    {
     "name": "stdout",
     "output_type": "stream",
     "text": [
      "Index(['Unnamed: 0', 'StartDate', 'EndDate', 'q0001', 'q0002', 'q0004_0001',\n",
      "       'q0004_0002', 'q0004_0003', 'q0004_0004', 'q0004_0005', 'q0004_0006',\n",
      "       'q0005', 'q0007_0001', 'q0007_0002', 'q0007_0003', 'q0007_0004',\n",
      "       'q0007_0005', 'q0007_0006', 'q0007_0007', 'q0007_0008', 'q0007_0009',\n",
      "       'q0007_0010', 'q0007_0011', 'q0008_0001', 'q0008_0002', 'q0008_0003',\n",
      "       'q0008_0004', 'q0008_0005', 'q0008_0006', 'q0008_0007', 'q0008_0008',\n",
      "       'q0008_0009', 'q0008_0010', 'q0008_0011', 'q0008_0012', 'q0009',\n",
      "       'q0010_0001', 'q0010_0002', 'q0010_0003', 'q0010_0004', 'q0010_0005',\n",
      "       'q0010_0006', 'q0010_0007', 'q0010_0008', 'q0011_0001', 'q0011_0002',\n",
      "       'q0011_0003', 'q0011_0004', 'q0011_0005', 'q0012_0001', 'q0012_0002',\n",
      "       'q0012_0003', 'q0012_0004', 'q0012_0005', 'q0012_0006', 'q0012_0007',\n",
      "       'q0013', 'q0014', 'q0015', 'q0017', 'q0018', 'q0019_0001', 'q0019_0002',\n",
      "       'q0019_0003', 'q0019_0004', 'q0019_0005', 'q0019_0006', 'q0019_0007',\n",
      "       'q0020_0001', 'q0020_0002', 'q0020_0003', 'q0020_0004', 'q0020_0005',\n",
      "       'q0020_0006', 'q0021_0001', 'q0021_0002', 'q0021_0003', 'q0021_0004',\n",
      "       'q0022', 'q0024', 'q0025_0001', 'q0025_0002', 'q0025_0003', 'q0026',\n",
      "       'q0028', 'q0029', 'q0030', 'q0034', 'q0035', 'q0036', 'race2',\n",
      "       'racethn4', 'educ3', 'educ4', 'age3', 'kids', 'orientation', 'weight'],\n",
      "      dtype='object')\n",
      "1189\n",
      "0                       Often\n",
      "1                      Rarely\n",
      "2                   Sometimes\n",
      "3                      Rarely\n",
      "4                   Sometimes\n",
      "                ...          \n",
      "1184                Sometimes\n",
      "1185                Sometimes\n",
      "1186                    Often\n",
      "1187    Never, but open to it\n",
      "1188                   Rarely\n",
      "Name: q0007_0001, Length: 1189, dtype: object\n",
      "Sometimes                    537\n",
      "Rarely                       324\n",
      "Often                        142\n",
      "Never, but open to it        123\n",
      "Never, and not open to it     53\n",
      "No answer                     10\n",
      "Name: q0007_0001, dtype: int64\n"
     ]
    }
   ],
   "source": [
    "import pandas as pd\n",
    "\n",
    "survey = pd.read_csv(\"masculinity.csv\")\n",
    "print(survey.columns)\n",
    "print(len(survey))\n",
    "print(survey['q0007_0001'])\n",
    "print(survey['q0007_0001'].value_counts())"
   ]
  },
  {
   "cell_type": "markdown",
   "metadata": {},
   "source": [
    "# Mapping the Data\n",
    "\n",
    "In order for us to start thinking about using the KMeans algorithm with this data, we need to first figure out how to turn these responses into numerical data. Let's once again consider question 7. We can't cluster the data using the phrases `\"Often\"` or `\"Rarely\"`, but we can turn those phrases into numbers. For example, we could map the data in the following way: \n",
    "* `\"Often\"` -> `4`\n",
    "* `\"Sometimes\"` ->  `3`\n",
    "* `\"Rarely\"` -> `2` \n",
    "* `\"Never, but open to it\"` -> `1`\n",
    "* `\"Never, and not open to it\"` -> `0`.\n",
    "\n",
    "Note that it's important that these responses are somewhat linear. `\"Often\"` is at one end of the spectrum with `\"Never, and not open to it\"` at the other. The other values fall in sequence between the two. You could perform a similar mapping for the `\"educ4\"` responses (question 29), but there isn't an obvious linear progression in the `\"racethn4\"` responses (question 28).\n",
    "\n",
    "In order to do this transformation, use the `map()` function. `map()` takes a dictionary as a parameter. For example, the following line of code would turn all the `\"A\"`s into `1`s and all the `\"B\"`s into `2`s in the column `\"col_one\"`.\n",
    "\n",
    "```py\n",
    "df[\"col_one\"] = df[\"col_one\"].map({\"A\": 1, \"B\": 2})\n",
    "```\n",
    "\n",
    "We've given you a list of the columns that should be mapped. Loop through the values of the list and map each column using the mapping described above.\n",
    "\n",
    "Be careful of your spelling! Punctuation and whitespace is important. Take a look at the `value_counts()` of one of these columns to see if the mapping worked.\n"
   ]
  },
  {
   "cell_type": "code",
   "execution_count": 2,
   "metadata": {},
   "outputs": [
    {
     "name": "stdout",
     "output_type": "stream",
     "text": [
      "3.0    537\n",
      "2.0    324\n",
      "4.0    142\n",
      "1.0    123\n",
      "0.0     53\n",
      "Name: q0007_0001, dtype: int64\n"
     ]
    }
   ],
   "source": [
    "cols_to_map = [\"q0007_0001\", \"q0007_0002\", \"q0007_0003\", \"q0007_0004\",\n",
    "       \"q0007_0005\", \"q0007_0006\", \"q0007_0007\", \"q0007_0008\", \"q0007_0009\",\n",
    "       \"q0007_0010\", \"q0007_0011\"]\n",
    "\n",
    "for col in cols_to_map:\n",
    "    survey[col] = survey[col].map({\"Never, and not open to it\": 0, \"Never, but open to it\": 1, \"Rarely\": 2, \"Sometimes\": 3, \"Often\": 4})\n",
    "    \n",
    "print(survey['q0007_0001'].value_counts())"
   ]
  },
  {
   "cell_type": "markdown",
   "metadata": {},
   "source": [
    "# Plotting the Data\n",
    "\n",
    "We now have 11 different features that we could use in our KMeans algorithm. Before we jump into clustering, let's graph some of these features on a 2D graph. Call `plt.scatter` using `survey[\"q0007_0001\"]` and `survey[\"q0007_0002\"]` as parameters. Include `alpha = 0.1`. We want to include `alpha` because many of the data points will be on top of each other. Adding `alpha` will make the points appear more solid if there are many stacked on top of each other.\n",
    "\n",
    "Include axis labels on your graph. The x-axis corresponds with the first column you gave the `scatter()` function. So in this case, it corresponds to the question about asking a friend for professional advice.\n",
    "\n",
    "Does it make sense that there are few points in the top left and bottom right corners of the graph? Why? Try graphing other dimensions against each other. Are there any combinations that give you surprising results?\n"
   ]
  },
  {
   "cell_type": "code",
   "execution_count": 3,
   "metadata": {},
   "outputs": [
    {
     "data": {
      "text/plain": [
       "Text(0, 0.5, 'Question 7 Sub2 Responses')"
      ]
     },
     "execution_count": 3,
     "metadata": {},
     "output_type": "execute_result"
    },
    {
     "data": {
      "image/png": "[encoded data removed]",
      "text/plain": [
       "<Figure size 432x288 with 1 Axes>"
      ]
     },
     "metadata": {
      "needs_background": "light"
     },
     "output_type": "display_data"
    }
   ],
   "source": [
    "from matplotlib import pyplot as plt\n",
    "plt.scatter(survey['q0007_0001'], survey['q0007_0002'], alpha=.1)\n",
    "plt.xlabel('Question 7, Sub 1 Responses')\n",
    "plt.ylabel('Question 7 Sub2 Responses')\n"
   ]
  },
  {
   "cell_type": "markdown",
   "metadata": {},
   "source": [
    "# Build the KMeans Model\n",
    "\n",
    "It's now time to start clustering! There are so many interesting questions we could ask about this data. Let's start by seeing if clusters form based on traditionally masculine concepts. \n",
    "\n",
    "Take a look at the first four sub-questions in question 7. Those four activities aren't necessarily seen as traditionally masculine. On the other hand, sub-questions 5, 8, and 9 are often seen as very masculine activities. What would happen if we found 2 clusters based on those 7 questions? Would we find clusters that represent traditionally feminine and traditionally masculine people? Let's find out.\n",
    "\n",
    "We need to first drop all of the rows that contain a `NaN` value in any of the columns we're interested in. Create a new variable named `rows_to_cluster` and set it equal to the result of calling `dropna` on `survey`. `dropna` should have a parameter `subset` equal to a list of the 7 columns we want. If you don't include `subset`, the function will drop all rows that have an `NaN` in *any* column. This would drop almost all the rows in the dataframe!\n",
    "\n",
    "Create a `KMeans` object named `classifier` where `n_clusters = 2`. Call `classifier`'s `.fit()` method. The parameter of `.fit()` should be the 7 columns we're interested in. For example, the following line of code will fit the model based on the columns `\"col_one\"` and `\"col_two\"` of the Dataframe `df`. \n",
    "\n",
    "```py\n",
    "classifier.fit(df[[\"col_one\", \"col_two\"]])\n",
    "```\n",
    "\n",
    "Make sure to only include the columns that you want to train off of. Make sure to use `rows_to_cluster` rather than `survey` to avoid including those `NaN`s!\n",
    "\n",
    "\n",
    "\n",
    "After fitting your model, print out the model's `cluster_centers_`.\n"
   ]
  },
  {
   "cell_type": "code",
   "execution_count": 4,
   "metadata": {},
   "outputs": [
    {
     "name": "stdout",
     "output_type": "stream",
     "text": [
      "[[2.84548105 2.81632653 2.84110787 2.39941691 0.69387755 3.06997085\n",
      "  2.90087464]\n",
      " [1.87830688 1.84391534 0.85185185 1.72486772 0.57142857 2.64021164\n",
      "  1.97089947]]\n"
     ]
    }
   ],
   "source": [
    "from sklearn.cluster import KMeans\n",
    "rows_to_cluster = survey.dropna(subset=[\"q0007_0001\", \"q0007_0002\", \"q0007_0003\", \"q0007_0004\",\n",
    "       \"q0007_0005\", \"q0007_0008\", \"q0007_0009\"])\n",
    "classifier = KMeans(n_clusters=2)\n",
    "classifier.fit(rows_to_cluster[[\"q0007_0001\", \"q0007_0002\", \"q0007_0003\", \"q0007_0004\",\n",
    "       \"q0007_0005\", \"q0007_0008\", \"q0007_0009\"]])\n",
    "print(classifier.cluster_centers_)"
   ]
  },
  {
   "cell_type": "markdown",
   "metadata": {},
   "source": [
    "# Separate the Cluster Members\n",
    "\n",
    "When we look at the two clusters, the first four numbers represent the traditionally feminine activities and the last three represent the traditionally masculine activities. If the data points separated into a feminine cluser and a masculine cluseter, we would expect to see one cluster to have high values for the first four numbers and the other cluster to have high values for the last three numbers.\n",
    "\n",
    "Instead, the first cluster has a higher value in every feature. Since a higher number means the person was more likely to \"often\" do something, the clusters seem to represent \"people who do things\" and \"people who don't do things\".\n",
    "\n",
    "We might be able to find out more information about these clusters by looking at the specific members of each cluster. Print `classifier.labels_`. This list shows which cluster every row in the DataFrame corresponds to.\n",
    "\n",
    "For example,  if `classifier.labels_` was `[1, 0 ,1]`, then the first row in the DataFrame would be in cluster one, the second row would be in cluster 0, and the third row would be in cluster one. A row represents one persons answers to every question in the survey.\n",
    "\n",
    "Create two new empty lists named `cluster_zero_indices` and `cluster_one_indices`. Loop through `classifier.labels_` and whenever a label is `0` add that index to `cluster_zero_indices`. Do the same whenever a label is a `1`.\n",
    "\n",
    "Print `cluster_zero_indices`"
   ]
  },
  {
   "cell_type": "code",
   "execution_count": 5,
   "metadata": {},
   "outputs": [
    {
     "name": "stdout",
     "output_type": "stream",
     "text": [
      "[0 1 0 ... 1 1 1]\n",
      "[0, 2, 3, 5, 8, 11, 13, 15, 16, 20, 21, 22, 23, 25, 26, 27, 28, 30, 31, 32, 33, 34, 36, 37, 38, 40, 41, 43, 44, 45, 46, 47, 48, 50, 56, 59, 60, 61, 64, 67, 68, 69, 70, 71, 72, 73, 74, 76, 77, 80, 81, 83, 85, 91, 93, 96, 99, 100, 102, 103, 104, 105, 108, 110, 111, 112, 114, 115, 120, 121, 122, 124, 125, 126, 127, 133, 135, 136, 137, 138, 140, 141, 144, 145, 146, 147, 148, 149, 150, 151, 152, 153, 155, 156, 157, 158, 159, 160, 161, 162, 163, 164, 165, 166, 167, 168, 169, 170, 171, 173, 174, 177, 182, 183, 185, 186, 188, 190, 191, 192, 193, 194, 197, 200, 202, 203, 204, 205, 206, 207, 208, 210, 211, 213, 214, 215, 216, 217, 218, 219, 220, 221, 223, 224, 225, 226, 227, 228, 232, 234, 235, 238, 239, 242, 243, 244, 245, 246, 251, 252, 253, 254, 255, 257, 258, 259, 262, 265, 266, 267, 268, 269, 270, 271, 273, 274, 276, 277, 278, 279, 280, 282, 285, 287, 289, 290, 292, 293, 294, 295, 298, 302, 303, 304, 306, 307, 308, 309, 312, 313, 314, 315, 316, 317, 318, 319, 320, 321, 322, 323, 324, 326, 327, 329, 330, 332, 333, 334, 335, 338, 339, 342, 344, 345, 346, 348, 349, 352, 354, 355, 356, 357, 358, 359, 360, 362, 363, 364, 365, 366, 368, 370, 371, 372, 373, 374, 375, 376, 379, 380, 381, 382, 383, 384, 385, 386, 387, 388, 389, 395, 400, 401, 402, 403, 404, 405, 406, 407, 408, 413, 414, 416, 420, 421, 422, 423, 424, 426, 427, 430, 431, 433, 434, 435, 436, 437, 438, 439, 440, 441, 442, 443, 444, 445, 446, 447, 448, 450, 451, 452, 453, 456, 458, 460, 462, 464, 465, 466, 467, 469, 472, 473, 474, 475, 479, 480, 481, 482, 483, 485, 486, 487, 488, 491, 492, 495, 497, 500, 501, 503, 504, 505, 506, 507, 511, 512, 513, 514, 517, 518, 519, 520, 522, 524, 527, 528, 530, 532, 534, 535, 536, 537, 538, 539, 540, 541, 543, 544, 545, 547, 548, 550, 551, 552, 553, 554, 557, 558, 561, 565, 568, 569, 571, 572, 573, 574, 575, 576, 578, 581, 582, 583, 584, 586, 587, 590, 591, 594, 595, 596, 597, 598, 600, 601, 602, 604, 605, 606, 607, 608, 609, 611, 612, 613, 614, 615, 618, 621, 623, 624, 627, 628, 630, 632, 633, 635, 640, 641, 642, 643, 644, 645, 646, 647, 648, 650, 652, 653, 657, 658, 660, 661, 663, 664, 665, 666, 667, 668, 670, 671, 672, 673, 674, 675, 676, 678, 679, 680, 682, 684, 688, 689, 690, 693, 694, 695, 698, 699, 700, 701, 703, 704, 705, 706, 707, 708, 709, 711, 712, 713, 714, 715, 716, 717, 724, 725, 727, 729, 731, 732, 733, 734, 735, 737, 739, 740, 742, 743, 746, 747, 752, 753, 754, 755, 756, 757, 760, 761, 763, 764, 765, 767, 770, 771, 773, 774, 779, 780, 781, 784, 785, 786, 791, 793, 796, 798, 802, 804, 806, 807, 808, 809, 811, 812, 813, 815, 816, 817, 818, 819, 820, 822, 823, 824, 825, 828, 829, 830, 832, 833, 834, 835, 836, 838, 840, 841, 842, 844, 845, 846, 847, 850, 851, 852, 854, 855, 857, 859, 861, 862, 863, 864, 865, 866, 867, 869, 870, 873, 876, 877, 878, 881, 885, 887, 888, 889, 890, 891, 893, 899, 903, 905, 906, 907, 908, 909, 910, 912, 913, 915, 916, 917, 920, 921, 925, 926, 927, 928, 930, 931, 933, 934, 935, 937, 938, 940, 941, 942, 944, 945, 946, 947, 949, 950, 951, 952, 953, 955, 956, 957, 959, 960, 964, 965, 966, 969, 972, 973, 975, 976, 977, 979, 980, 981, 983, 984, 986, 988, 990, 992, 994, 995, 996, 997, 999, 1001, 1002, 1004, 1005, 1006, 1008, 1009, 1010, 1012, 1015, 1017, 1018, 1019, 1020, 1021, 1022, 1023, 1024, 1026, 1027, 1028, 1029, 1030, 1031, 1032, 1033, 1034, 1035, 1040, 1041, 1043, 1044, 1047, 1049, 1051, 1052, 1053, 1056, 1058, 1059, 1060]\n"
     ]
    }
   ],
   "source": [
    "print(classifier.labels_)\n",
    "cluster_zero_indices = []\n",
    "cluster_one_indices = []\n",
    "for label in range(len(classifier.labels_)):\n",
    "    if classifier.labels_[label] == 0:\n",
    "        cluster_zero_indices.append(label)\n",
    "    elif classifier.labels_[label] == 1:\n",
    "        cluster_one_indices.append(label)\n",
    "print(cluster_zero_indices)"
   ]
  },
  {
   "cell_type": "markdown",
   "metadata": {},
   "source": [
    "# Investigate the Cluster Members\n",
    "\n",
    "Now that we have the indices for each cluster, let's look at some stats about these two clusters. You can get the rows of the DataFrame that correspond to cluster zero by doing the following:\n",
    "\n",
    "```py\n",
    "cluster_zero_df = rows_to_cluster.iloc[cluster_zero_indices]\n",
    "```\n",
    "\n",
    "Do the same for `cluster_one_df`.\n",
    "\n",
    "Finally, let's look at some information about these two clusters. Print the `value_counts()` of the `educ4` column of each cluster. What do you notice? Try looking at different columns. For example, are the people in cluster zero significantly older than those in cluster one? You can look at the `age3` column to see.\n",
    "\n",
    "If you divide the result of `value_counts()` by the size of the cluster, you get the percentage of people in each category rather than the total number. This will make it easier to compare the two clusters."
   ]
  },
  {
   "cell_type": "code",
   "execution_count": 6,
   "metadata": {
    "scrolled": true
   },
   "outputs": [
    {
     "name": "stdout",
     "output_type": "stream",
     "text": [
      "Post graduate degree    0.365889\n",
      "College or more         0.330904\n",
      "Some college            0.230321\n",
      "High school or less     0.072886\n",
      "Name: educ4, dtype: float64\n",
      "Some college            0.314815\n",
      "College or more         0.285714\n",
      "Post graduate degree    0.251323\n",
      "High school or less     0.145503\n",
      "Name: educ4, dtype: float64\n"
     ]
    }
   ],
   "source": [
    "cluster_zero_df = rows_to_cluster.iloc[cluster_zero_indices]\n",
    "cluster_one_df = rows_to_cluster.iloc[cluster_one_indices]\n",
    "\n",
    "print(cluster_zero_df['educ4'].value_counts() / len(cluster_zero_df))\n",
    "print(cluster_one_df['educ4'].value_counts() / len(cluster_one_df))"
   ]
  },
  {
   "cell_type": "code",
   "execution_count": 7,
   "metadata": {},
   "outputs": [
    {
     "name": "stdout",
     "output_type": "stream",
     "text": [
      "35 - 64      0.478134\n",
      "65 and up    0.454810\n",
      "18 - 34      0.067055\n",
      "Name: age3, dtype: float64\n",
      "65 and up    0.502646\n",
      "35 - 64      0.433862\n",
      "18 - 34      0.060847\n",
      "Name: age3, dtype: float64\n"
     ]
    }
   ],
   "source": [
    "print(cluster_zero_df['age3'].value_counts() / len(cluster_zero_df))\n",
    "print(cluster_one_df['age3'].value_counts() / len(cluster_one_df))"
   ]
  },
  {
   "cell_type": "code",
   "execution_count": 8,
   "metadata": {},
   "outputs": [
    {
     "name": "stdout",
     "output_type": "stream",
     "text": [
      "Has children    0.688047\n",
      "No children     0.307580\n",
      "Name: kids, dtype: float64\n",
      "Has children    0.666667\n",
      "No children     0.328042\n",
      "Name: kids, dtype: float64\n"
     ]
    }
   ],
   "source": [
    "print(cluster_zero_df['kids'].value_counts() / len(cluster_zero_df))\n",
    "print(cluster_one_df['kids'].value_counts() / len(cluster_one_df))"
   ]
  },
  {
   "cell_type": "markdown",
   "metadata": {},
   "source": []
  },
  {
   "cell_type": "code",
   "execution_count": 9,
   "metadata": {},
   "outputs": [
    {
     "name": "stdout",
     "output_type": "stream",
     "text": [
      "White        0.855685\n",
      "Non-white    0.144315\n",
      "Name: race2, dtype: float64\n",
      "White        0.835979\n",
      "Non-white    0.164021\n",
      "Name: race2, dtype: float64\n"
     ]
    }
   ],
   "source": [
    "print(cluster_zero_df['race2'].value_counts() / len(cluster_zero_df))\n",
    "print(cluster_one_df['race2'].value_counts() / len(cluster_one_df))"
   ]
  },
  {
   "cell_type": "code",
   "execution_count": 10,
   "metadata": {},
   "outputs": [
    {
     "name": "stdout",
     "output_type": "stream",
     "text": [
      "White       0.855685\n",
      "Other       0.083090\n",
      "Hispanic    0.034985\n",
      "Black       0.026239\n",
      "Name: racethn4, dtype: float64\n",
      "White       0.833333\n",
      "Other       0.079365\n",
      "Black       0.047619\n",
      "Hispanic    0.037037\n",
      "W           0.002646\n",
      "Name: racethn4, dtype: float64\n"
     ]
    }
   ],
   "source": [
    "print(cluster_zero_df['racethn4'].value_counts() / len(cluster_zero_df))\n",
    "print(cluster_one_df['racethn4'].value_counts() / len(cluster_one_df))"
   ]
  },
  {
   "cell_type": "markdown",
   "metadata": {},
   "source": [
    "# Explore on Your Own\n",
    "\n",
    "Great work! You've found out that by answering those 7 questions people don't fall into a \"masculine\" category or a \"feminine\" category. Instead, they seem to be divided by their level of education!\n",
    "\n",
    "Now it's time for you to explore this data on your own. In this project, we've really focused on question 7 and its sub-questions. Take a look at some of the other questions in the survey and try to ask yourself some interesting questions. Here's a list of questions you could dive into:\n",
    "\n",
    "* Which demographic features have stronger correlations with ideas of masculinity (sexual orientation, age, race, marital status, parenthood?)\n",
    "* Are certain beliefs or actions linked to more self-described masculine or feminine individuals?\n",
    "* How do insecurities change as people grow older?\n",
    "\n",
    "\n",
    "Special thanks to the team at FiveThirtyEight and specifically Dhrumil Mehta for giving us access to the data!\n"
   ]
  },
  {
   "cell_type": "code",
   "execution_count": 11,
   "metadata": {},
   "outputs": [
    {
     "name": "stdout",
     "output_type": "stream",
     "text": [
      "Straight        0.838192\n",
      "Gay/Bisexual    0.131195\n",
      "Other           0.023324\n",
      "No answer       0.007289\n",
      "Name: orientation, dtype: float64\n",
      "Straight        0.912698\n",
      "Gay/Bisexual    0.071429\n",
      "Other           0.013228\n",
      "Name: orientation, dtype: float64\n"
     ]
    }
   ],
   "source": [
    "print(cluster_zero_df['orientation'].value_counts() / len(cluster_zero_df))\n",
    "print(cluster_one_df['orientation'].value_counts() / len(cluster_one_df))"
   ]
  },
  {
   "cell_type": "code",
   "execution_count": 12,
   "metadata": {},
   "outputs": [
    {
     "name": "stdout",
     "output_type": "stream",
     "text": [
      "Married          0.632653\n",
      "Never married    0.150146\n",
      "Divorced         0.137026\n",
      "Widowed          0.058309\n",
      "Separated        0.018950\n",
      "No answer        0.002915\n",
      "Name: q0024, dtype: float64\n",
      "Married          0.629630\n",
      "Never married    0.142857\n",
      "Divorced         0.140212\n",
      "Widowed          0.071429\n",
      "Separated        0.010582\n",
      "No answer        0.005291\n",
      "Name: q0024, dtype: float64\n"
     ]
    }
   ],
   "source": [
    "print(cluster_zero_df['q0024'].value_counts() / len(cluster_zero_df))\n",
    "print(cluster_one_df['q0024'].value_counts() / len(cluster_one_df))"
   ]
  },
  {
   "cell_type": "code",
   "execution_count": 13,
   "metadata": {},
   "outputs": [
    {
     "name": "stdout",
     "output_type": "stream",
     "text": [
      "1.0    0.421283\n",
      "0.0    0.215743\n",
      "2.0    0.190962\n",
      "3.0    0.103499\n",
      "4.0    0.055394\n",
      "Name: q0007_0010, dtype: float64\n",
      "0.0    0.441799\n",
      "1.0    0.341270\n",
      "2.0    0.119048\n",
      "3.0    0.044974\n",
      "4.0    0.042328\n",
      "Name: q0007_0010, dtype: float64\n"
     ]
    }
   ],
   "source": [
    "print(cluster_zero_df['q0007_0010'].value_counts() / len(cluster_zero_df))\n",
    "print(cluster_one_df['q0007_0010'].value_counts() / len(cluster_one_df))\n",
    "## Responses to seeing a therapist, by cluster."
   ]
  },
  {
   "cell_type": "code",
   "execution_count": 19,
   "metadata": {},
   "outputs": [
    {
     "name": "stdout",
     "output_type": "stream",
     "text": [
      "q0008_0001  \n",
      "Not selected    0.959184\n",
      "Your height     0.040816\n",
      "dtype: float64\n",
      "q0008_0001  \n",
      "Not selected    0.97619\n",
      "Your height     0.02381\n",
      "dtype: float64\n",
      "q0008_0002  \n",
      "Your weight     0.58309\n",
      "Not selected    0.41691\n",
      "dtype: float64\n",
      "q0008_0002  \n",
      "Not selected    0.5\n",
      "Your weight     0.5\n",
      "dtype: float64\n",
      "q0008_0003           \n",
      "Not selected             0.87172\n",
      "Your hair or hairline    0.12828\n",
      "dtype: float64\n",
      "q0008_0003           \n",
      "Not selected             0.915344\n",
      "Your hair or hairline    0.084656\n",
      "dtype: float64\n",
      "q0008_0004   \n",
      "Not selected     0.657434\n",
      "Your physique    0.342566\n",
      "dtype: float64\n",
      "q0008_0004   \n",
      "Not selected     0.759259\n",
      "Your physique    0.240741\n",
      "dtype: float64\n",
      "q0008_0005                  \n",
      "Not selected                    0.922741\n",
      "Appearance of your genitalia    0.077259\n",
      "dtype: float64\n",
      "q0008_0005                  \n",
      "Not selected                    0.912698\n",
      "Appearance of your genitalia    0.087302\n",
      "dtype: float64\n",
      "q0008_0006            \n",
      "Not selected              0.887755\n",
      "Your clothing or style    0.112245\n",
      "dtype: float64\n",
      "q0008_0006            \n",
      "Not selected              0.89418\n",
      "Your clothing or style    0.10582\n",
      "dtype: float64\n",
      "q0008_0007                         \n",
      "Not selected                           0.768222\n",
      "Sexual performance or amount of sex    0.231778\n",
      "dtype: float64\n",
      "q0008_0007                         \n",
      "Not selected                           0.814815\n",
      "Sexual performance or amount of sex    0.185185\n",
      "dtype: float64\n",
      "q0008_0008        \n",
      "Not selected          0.772595\n",
      "Your mental health    0.227405\n",
      "dtype: float64\n",
      "q0008_0008        \n",
      "Not selected          0.761905\n",
      "Your mental health    0.238095\n",
      "dtype: float64\n",
      "q0008_0009          \n",
      "Your physical health    0.546647\n",
      "Not selected            0.453353\n",
      "dtype: float64\n",
      "q0008_0009          \n",
      "Your physical health    0.502646\n",
      "Not selected            0.497354\n",
      "dtype: float64\n",
      "q0008_0010                                                             \n",
      "Not selected                                                               0.524781\n",
      "Your finances, including your current or future income, assets, or debt    0.475219\n",
      "dtype: float64\n",
      "q0008_0010                                                             \n",
      "Not selected                                                               0.587302\n",
      "Your finances, including your current or future income, assets, or debt    0.412698\n",
      "dtype: float64\n",
      "q0008_0011                                                     \n",
      "Not selected                                                       0.727405\n",
      "Your ability to provide for your family, current or anticipated    0.272595\n",
      "dtype: float64\n",
      "q0008_0011                                                     \n",
      "Not selected                                                       0.759259\n",
      "Your ability to provide for your family, current or anticipated    0.240741\n",
      "dtype: float64\n",
      "q0008_0012       \n",
      "Not selected         0.854227\n",
      "None of the above    0.145773\n",
      "dtype: float64\n",
      "q0008_0012       \n",
      "Not selected         0.798942\n",
      "None of the above    0.201058\n",
      "dtype: float64\n"
     ]
    }
   ],
   "source": [
    "for  i in cluster_zero_df[['q0008_0001', 'q0008_0002', 'q0008_0003','q0008_0004', 'q0008_0005', 'q0008_0006', 'q0008_0007', 'q0008_0008','q0008_0009', 'q0008_0010', 'q0008_0011', 'q0008_0012']]:\n",
    "    print(cluster_zero_df[[i]].value_counts()/len(cluster_zero_df))\n",
    "    print(cluster_one_df[[i]].value_counts()/len(cluster_one_df))"
   ]
  },
  {
   "cell_type": "code",
   "execution_count": null,
   "metadata": {},
   "outputs": [],
   "source": []
  }
 ],
 "metadata": {
  "kernelspec": {
   "display_name": "Python 3 (ipykernel)",
   "language": "python",
   "name": "python3"
  },
  "language_info": {
   "codemirror_mode": {
    "name": "ipython",
    "version": 3
   },
   "file_extension": ".py",
   "mimetype": "text/x-python",
   "name": "python",
   "nbconvert_exporter": "python",
   "pygments_lexer": "ipython3",
   "version": "3.8.12"
  }
 },
 "nbformat": 4,
 "nbformat_minor": 2
}
